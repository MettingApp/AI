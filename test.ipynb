{
 "cells": [
  {
   "cell_type": "code",
   "execution_count": 1,
   "metadata": {},
   "outputs": [
    {
     "name": "stdout",
     "output_type": "stream",
     "text": [
      "[youtube] Extracting URL: https://www.youtube.com/watch?v=2rm-7fO1fds\n",
      "[youtube] 2rm-7fO1fds: Downloading webpage\n",
      "[youtube] 2rm-7fO1fds: Downloading ios player API JSON\n",
      "[youtube] 2rm-7fO1fds: Downloading android player API JSON\n"
     ]
    },
    {
     "name": "stderr",
     "output_type": "stream",
     "text": [
      "WARNING: [youtube] YouTube said: ERROR - Precondition check failed.\n",
      "WARNING: [youtube] HTTP Error 400: Bad Request. Retrying (1/3)...\n"
     ]
    },
    {
     "name": "stdout",
     "output_type": "stream",
     "text": [
      "[youtube] 2rm-7fO1fds: Downloading android player API JSON\n"
     ]
    },
    {
     "name": "stderr",
     "output_type": "stream",
     "text": [
      "WARNING: [youtube] YouTube said: ERROR - Precondition check failed.\n",
      "WARNING: [youtube] HTTP Error 400: Bad Request. Retrying (2/3)...\n"
     ]
    },
    {
     "name": "stdout",
     "output_type": "stream",
     "text": [
      "[youtube] 2rm-7fO1fds: Downloading android player API JSON\n"
     ]
    },
    {
     "name": "stderr",
     "output_type": "stream",
     "text": [
      "WARNING: [youtube] YouTube said: ERROR - Precondition check failed.\n",
      "WARNING: [youtube] HTTP Error 400: Bad Request. Retrying (3/3)...\n"
     ]
    },
    {
     "name": "stdout",
     "output_type": "stream",
     "text": [
      "[youtube] 2rm-7fO1fds: Downloading android player API JSON\n"
     ]
    },
    {
     "name": "stderr",
     "output_type": "stream",
     "text": [
      "WARNING: [youtube] YouTube said: ERROR - Precondition check failed.\n",
      "WARNING: [youtube] Unable to download API page: HTTP Error 400: Bad Request (caused by <HTTPError 400: 'Bad Request'>); please report this issue on  https://github.com/yt-dlp/yt-dlp/issues?q= , filling out the appropriate issue template. Confirm you are on the latest version using  yt-dlp -U\n",
      "WARNING: [youtube] 2rm-7fO1fds: nsig extraction failed: You may experience throttling for some formats\n",
      "         Install PhantomJS to workaround the issue. Please download it from https://phantomjs.org/download.html\n",
      "         n = NFw3fjv4Lnwpp7 ; player = https://www.youtube.com/s/player/89dfc5b3/player_ias.vflset/en_US/base.js\n",
      "WARNING: [youtube] 2rm-7fO1fds: nsig extraction failed: You may experience throttling for some formats\n",
      "         Install PhantomJS to workaround the issue. Please download it from https://phantomjs.org/download.html\n",
      "         n = da1mMuoewo3lRN ; player = https://www.youtube.com/s/player/89dfc5b3/player_ias.vflset/en_US/base.js\n"
     ]
    },
    {
     "name": "stdout",
     "output_type": "stream",
     "text": [
      "[youtube] 2rm-7fO1fds: Downloading m3u8 information\n",
      "[info] 2rm-7fO1fds: Downloading 1 format(s): 140\n",
      "[download] Destination: ./datasets/tmp22/wavs/2rm-7fO1fds.m4a\n",
      "[download] 100% of    6.57MiB in 00:00:02 at 2.77MiB/s   \n",
      "[FixupM4a] Correcting container of \"./datasets/tmp22/wavs/2rm-7fO1fds.m4a\"\n",
      "[ExtractAudio] Destination: ./datasets/tmp22/wavs/2rm-7fO1fds.wav\n",
      "Deleting original file ./datasets/tmp22/wavs/2rm-7fO1fds.m4a (pass -k to keep)\n"
     ]
    }
   ],
   "source": [
    "from vctube import VCtube\n",
    "\n",
    "\n",
    "vc = VCtube('tmp22', 'https://www.youtube.com/watch?v=2rm-7fO1fds', 'ko')\n",
    "vc.download_audio()"
   ]
  },
  {
   "cell_type": "code",
   "execution_count": null,
   "metadata": {},
   "outputs": [],
   "source": []
  }
 ],
 "metadata": {
  "kernelspec": {
   "display_name": "stt",
   "language": "python",
   "name": "python3"
  },
  "language_info": {
   "codemirror_mode": {
    "name": "ipython",
    "version": 3
   },
   "file_extension": ".py",
   "mimetype": "text/x-python",
   "name": "python",
   "nbconvert_exporter": "python",
   "pygments_lexer": "ipython3",
   "version": "3.10.15"
  }
 },
 "nbformat": 4,
 "nbformat_minor": 2
}
